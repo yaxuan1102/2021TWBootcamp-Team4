{
 "cells": [
  {
   "cell_type": "markdown",
   "metadata": {},
   "source": [
    "# Google Map Data\n",
    "\n",
    "API key : Your API    \n",
    "API 用量 : https://console.cloud.google.com/google/maps-apis/overview?project=nth-station-323312"
   ]
  },
  {
   "cell_type": "code",
   "execution_count": 2,
   "metadata": {},
   "outputs": [],
   "source": [
    "import requests\n",
    "import json\n",
    "import pandas as pd"
   ]
  },
  {
   "cell_type": "markdown",
   "metadata": {},
   "source": [
    "# Nearby Search \n",
    "https://developers.google.com/maps/documentation/javascript/reference/places-service#PlaceSearchRequest\n",
    "https://developers.google.com/maps/documentation/places/web-service/search-find-place#maps_http_places_findplacefromtext_mca-py\n",
    "\n",
    "\n",
    "\n",
    "## Type\n",
    "\n",
    "reference form : https://developers.google.com/maps/documentation/places/web-service/supported_types\n",
    "\n",
    "Some useful types of place are listed below:  \n",
    "\n",
    "amusement_park,  aquarium, art_gallery, bar, book_store, **cafe**, church, clothing_store, department_store, hindu_temple, mosque(清真寺), movie_theater, museum, museum, night_club, park, night_club, **restaurant**, shopping_mall, **tourist_attraction**, subway_station, university, library, **food**, **landmark**, **natural_feature**, **point_of_interest**\n"
   ]
  },
  {
   "cell_type": "code",
   "execution_count": 3,
   "metadata": {},
   "outputs": [],
   "source": [
    "def Info_2_Dic(place_info): # 給API 提供的資料然後轉成 DataFrame\n",
    "    num_place = len(place_info[\"results\"]) #給出 NearbyFinding 找到景點的個數\n",
    "    print(num_place)\n",
    "    information = {} #建一個dictionary\n",
    "    \n",
    "#     dic_data = lambda x : [place_info[\"results\"][i][x] for i in range(0, num_place)]\n",
    "    \n",
    "    information[\"name\"] = [] \n",
    "    information[\"place_id\"] = [] \n",
    "    information[\"types\"] = [] #一開始的type\n",
    "    information[\"lat\"] = [] #經度\n",
    "    information[\"lng\"] = [] #緯度\n",
    "    information[\"rating\"] = [] #評分\n",
    "    information[\"user_ratings_total\"] = [] #總共有多少人評過\n",
    "    \n",
    "    for i in range(0, num_place):\n",
    "        information[\"name\"].append(place_info[\"results\"][i][\"name\"]) \n",
    "        information[\"place_id\"].append(place_info[\"results\"][i][\"place_id\"])\n",
    "        information[\"types\"].append(place_info[\"results\"][i][\"types\"])\n",
    "        information[\"lat\"].append(place_info[\"results\"][i]['geometry']['location'][\"lat\"])\n",
    "        information[\"lng\"].append(place_info[\"results\"][i]['geometry']['location'][\"lng\"])\n",
    "        \n",
    "        try:  #這邊會用try的原因是因為有些地方沒有 rating, 沒有的話我就讓他補0  \n",
    "            information[\"rating\"].append(place_info[\"results\"][i][\"rating\"])\n",
    "            information[\"user_ratings_total\"].append(place_info[\"results\"][i][\"user_ratings_total\"])\n",
    "        except:\n",
    "#             print(\"rating error\")\n",
    "#             print(place_info[\"results\"][i][\"name\"])\n",
    "            information[\"rating\"].append(0)\n",
    "            information[\"user_ratings_total\"].append(0)\n",
    "            continue\n",
    "    \n",
    "    #print(information)\n",
    "    return pd.DataFrame(information)"
   ]
  },
  {
   "cell_type": "code",
   "execution_count": 4,
   "metadata": {},
   "outputs": [],
   "source": [
    "def get_place_info(API_keys, lat, lon, radius, type_place): #去尋找地點\n",
    "    \n",
    "    \n",
    "    url = \"https://maps.googleapis.com/maps/api/place/nearbysearch/json?\" #利用NearbySearch \n",
    "    \n",
    "    params = { \n",
    "        \"location\": str(lat) + \",\" + str(lon), #經緯度\n",
    "        \"radius\" : str(radius), #尋找半徑\n",
    "        \"type\" : type_place, #想要尋找的type 標籤 : restaurant\n",
    "        \"fields\" :  \"name,rating,formatted_phone_number,geometry\", #只給出這個地點的名字、...(但這個不管打什麼全部的資料都會跑出來OAO)\n",
    "        \"key\" : API_keys,\n",
    "        \"language\" : \"zh-TW\",\n",
    "             }\n",
    "    \n",
    "    payload={}\n",
    "    headers = {}\n",
    "    response = requests.request(\"GET\", url, params = params, headers=headers, data=payload)\n",
    "    #print(response.url)\n",
    "    return Info_2_Dic(json.loads(response.text))"
   ]
  },
  {
   "cell_type": "code",
   "execution_count": 5,
   "metadata": {},
   "outputs": [
    {
     "name": "stdout",
     "output_type": "stream",
     "text": [
      "11\n"
     ]
    }
   ],
   "source": [
    "API_keys = \n",
    "lat = 24.79703723162301\n",
    "lon = 120.99636949032364\n",
    "test_loc = get_place_info(API_keys, lat, lon, 90, \"restaurant\")"
   ]
  },
  {
   "cell_type": "code",
   "execution_count": 6,
   "metadata": {},
   "outputs": [
    {
     "name": "stdout",
     "output_type": "stream",
     "text": [
      "                     name                     place_id  \\\n",
      "0                 十六區和風料理  ChIJa1FP13I2aDQRxBkPogHSIPE   \n",
      "1                    甘泉魚麵  ChIJ_UmSJ3M2aDQRGpQ4UoYLGqg   \n",
      "2                老陳記北方麵食館  ChIJadAcIXM2aDQRx7YtbMTmPAc   \n",
      "3   Niko's Pizzeria 你一口比薩  ChIJrUw113I2aDQRMW4p8PlXUHc   \n",
      "4           JJ Cheers Bar  ChIJcXXMJXM2aDQRb_XUTZUDUtE   \n",
      "5                甲黑哥平價小火鍋  ChIJQVX9r-43aDQRnQd9z10C3RQ   \n",
      "6                   大鼓肉夾饃  ChIJB12y0XI2aDQRZlSYHSHVi94   \n",
      "7      摩斯漢堡新竹清華店 (清華大學對面）  ChIJq662EWA3aDQRHEUPUKy-q8o   \n",
      "8                    本丸早餐  ChIJxb8szHI2aDQRzeE4owh8s9M   \n",
      "9                    港島主麵  ChIJhYR6w9Y3aDQRwaSVbcoBBwU   \n",
      "10                 紅吱吱牛排館  ChIJ1xxnzHI2aDQRnUv29iXGsLg   \n",
      "\n",
      "                                                types        lat         lng  \\\n",
      "0   [restaurant, food, point_of_interest, establis...  24.797274  120.996559   \n",
      "1   [restaurant, food, point_of_interest, establis...  24.797604  120.996101   \n",
      "2   [restaurant, food, point_of_interest, establis...  24.797747  120.996138   \n",
      "3   [meal_takeaway, restaurant, food, point_of_int...  24.797252  120.996627   \n",
      "4   [restaurant, food, point_of_interest, establis...  24.797655  120.996078   \n",
      "5   [restaurant, food, point_of_interest, establis...  24.797472  120.996361   \n",
      "6   [restaurant, food, point_of_interest, establis...  24.797125  120.996796   \n",
      "7   [restaurant, food, point_of_interest, establis...  24.797058  120.996852   \n",
      "8   [restaurant, food, point_of_interest, establis...  24.796834  120.997137   \n",
      "9   [restaurant, food, point_of_interest, establis...  24.797868  120.996367   \n",
      "10  [restaurant, food, point_of_interest, establis...  24.796802  120.997192   \n",
      "\n",
      "    rating  user_ratings_total  \n",
      "0      4.0                1093  \n",
      "1      4.0                 589  \n",
      "2      2.5                 528  \n",
      "3      4.1                 106  \n",
      "4      4.9                 923  \n",
      "5      4.0                 117  \n",
      "6      4.2                 543  \n",
      "7      2.9                  39  \n",
      "8      0.0                   0  \n",
      "9      4.1                 157  \n",
      "10     3.9                1316  \n"
     ]
    }
   ],
   "source": [
    "print(test_loc)"
   ]
  },
  {
   "cell_type": "markdown",
   "metadata": {},
   "source": [
    "# Get Review"
   ]
  },
  {
   "cell_type": "code",
   "execution_count": 7,
   "metadata": {},
   "outputs": [
    {
     "name": "stdout",
     "output_type": "stream",
     "text": [
      "https://maps.googleapis.com/maps/api/place/details/json?\n",
      "{\n",
      "   \"html_attributions\" : [],\n",
      "   \"result\" : {\n",
      "      \"name\" : \"日藏燒肉Yakiniku-中西精緻燒肉|和牛燒肉推薦|特色燒肉店|網美燒肉店|打卡燒肉店|人氣燒肉店\",\n",
      "      \"rating\" : 4.4,\n",
      "      \"reviews\" : [\n",
      "         {\n",
      "            \"rating\" : 2,\n",
      "            \"text\" : \"剛開店沒多久入店，飲料跟泡菜都上了但炭火等了20分鐘（在服務人員與現場客的對話中得知接下來定位都滿了，在這樣的狀況下我認為炭火不該等那麼久）第一輪點餐點了厚切牛舌、橫膈膜、和雞松板，橫膈膜跟雞松板的調味口感都非常好，雖然橫膈膜賣的比平均價位高一些我也覺得可以接受，但牛舌的部分一開始點餐有詢問服務人員牛舌切的厚度，他跟我說大概是一支原子筆的厚度（實測約0.8公分）這樣的厚度賣的貴了一點我也覺得可以接受，但送上桌時約只有服務人員描述的一半厚度並且左右厚薄不一，對於強調‘手切現切’的店家不該發生這樣的狀況吧（？）後續加點的牛肋條跟豬頰肉先說牛肋條，過度斷筋導致筋面烤到好入口的熟度時肉面已經過熟失去肉汁，同時加點的豬頰肉在吃完牛肋條後還沒上桌（現場不到五成滿且烤肉習慣是一次只烤一兩片肉）後續上桌表現也不甚理想，明明跟雞松板是同一種調味方式，雞肉表面是多汁舒服的、反之豬肉烤熟後表面乾柴不說還有豬味......\\n整場下來服務也是一般般，上菜時沒有介紹肉品，然後外場好像是新人有時候不是很清楚怎麼應對，快兩個小時的用餐體驗中稱的上貼心適切的服務應該只有炭火不足時主動加碳和等肉等到飲料喝完時有主動提供飲水，總觀整體用餐感受這個價位台南有許多燒肉店可供選擇並不會想特地到日藏用餐\\n另外日和的部分是要先預約才有現場沒有販售哦！不要撲空了！\"\n",
      "         },\n",
      "         {\n",
      "            \"rating\" : 5,\n",
      "            \"text\" : \"8/11 7:30\\n這次的用餐體驗相當豐富，我們一開始入內時客人沒有很多，店家的防疫措施做的相當周全，菜品在點菜完成後不到十五分鐘就來了，服務人員相當細心的幫我們處理牛舌和蒜蒜牛五花以及後續的一些菜品，得到我和另一位顧客相當高的評價。\\n\\n在菜品方面我認為肉類水準很高，既鮮嫩又多汁，油脂的分佈和香味也相當優秀，尤其是厚切牛舌更是絕讚，這道菜已經變成下次光顧時的必點品了；這次的雞肉只點了雞心，但爽脆的口感讓我印象深刻；海鮮方面選擇了軟絲和一夜干鹽烤花魚，店員還很熱心的在旁邊的爐子幫我們處理烤花魚，鮮味搭配上一點檸檬也是絕配。\\n\\nP.S.這間店的桌邊服務真的很棒，店員在處理肉品方面真的相當優秀，對於技巧背後的邏輯也絲毫不藏私地分享給我們，像我這種對烤肉技巧不精熟的食客也能在這裡獲得滿足的用餐體驗。\"\n",
      "         },\n",
      "         {\n",
      "            \"rating\" : 1,\n",
      "            \"text\" : \"實在很失望… 以爲google 評價很高會很不錯結果🙄….\\n一開始打來訂位時，以為生意爆好，還跟我們說7點沒位子，要7:30才有，到現場的時候只有3組客人….再來不知道為什麼裡面的員工疫情其間口罩都不會戴好，送水來只送一杯（我們明明就2個人）， 點完餐等了大概快半小時才陸續送上桌（當時店內只有另外三組客人），沒有服務態度就算了，連跟我們介紹是什麼肉都沒有！然後份量還少到難以置信！大家不要再被google評價騙了！（以上是4月份去吃的時候的感想）\"\n",
      "         },\n",
      "         {\n",
      "            \"rating\" : 2,\n",
      "            \"text\" : \"1、總共三桌，點完餐上了飲料後第一份肉過了20分鐘才上，這20分鐘兩個人坐在火前桌上空空，我們都快被烤熟。\\n\\n2、第一次點的綜合奶油菇，點餐後50幾分鐘接近一小時才上桌（中間有提醒過一次），而且還是生的，用一份生的奶油菇需要一小時嗎？不曉得。\\n\\n3、價位非常高檔，品質ok但全都份量太太太少（牛五花神級好吃，只推薦這個）兩個人已經點了快2k感覺只有三分飽⋯⋯決定結帳走人，這個速度和cp質我還是去吃SHOJO好了，開玩笑的大家不要去，休揪已經太難訂了。\\n\\n4、烤盤抽油煙的風力太小，感覺油煙吸得比較飽。\\n\\n5、後來加點的野菜是生的，結果上餐時是一般的包肉生菜，小小片4片左右（$60），肉都已經吃完才上，速度太慢之外點餐時也不先說⋯⋯\\n\\n6、肉品都太油。\\n\\n總結：cp質太低，粗估兩個人至少需要5k以上才會有飽足感，一次店。\\n\\n補：最後來的服務生看到我們沒有肉了主動幫我們把生菜退掉，多給一顆星。\"\n",
      "         },\n",
      "         {\n",
      "            \"rating\" : 5,\n",
      "            \"text\" : \"超級推薦的燒烤店！\\n尤其厚切牛舌～～～～～\\n老闆、老闆娘、店員都超級親切❤️\\n目前吃過最好吃也是最開心的燒烤店\\nCP值很高\\n值得給五顆星評價！\"\n",
      "         }\n",
      "      ]\n",
      "   },\n",
      "   \"status\" : \"OK\"\n",
      "}\n",
      "\n"
     ]
    }
   ],
   "source": [
    "API_keys = \n",
    "\n",
    "url = \"https://maps.googleapis.com/maps/api/place/details/json?\" \n",
    "print(url)\n",
    "payload={}\n",
    "headers = {}\n",
    "params = {\"fields\" :  \"name,rating,review/text,review/rating\", #給出所要地點的review\n",
    "          \"place_id\" : \"ChIJJZT_vnN3bjQR3ynoi2XoMqc\", #特定地點的 placeID\n",
    "          \"key\" : API_keys,\n",
    "          \"language\" : \"zh-TW\",\n",
    "          \n",
    "         }\n",
    "\n",
    "response = requests.request(\"GET\", url, params = params, headers=headers, data=payload)\n",
    "print(response.text) #印出API 回傳的文字檔，可以利用json.load(response.text)給出dictionary 的形式"
   ]
  },
  {
   "cell_type": "code",
   "execution_count": 185,
   "metadata": {},
   "outputs": [],
   "source": [
    "#print(json.loads(response.text)[\"result\"][\"reviews\"])"
   ]
  },
  {
   "cell_type": "code",
   "execution_count": 8,
   "metadata": {},
   "outputs": [],
   "source": [
    "def get_place_rev(API_keys, place_ID): #輸入地點的PlaceID 後可以給出他的評論\n",
    "\n",
    "    url = \"https://maps.googleapis.com/maps/api/place/details/json?\"\n",
    "    \n",
    "    params = {\"fields\" :  \"name,rating,review/text,review/rating\",#給出所要地點的review\n",
    "          \"place_id\" : place_ID,#特定地點的 placeID\n",
    "          \"key\" : API_keys,\n",
    "          \"language\" : \"zh-TW\",\n",
    "          \n",
    "         }\n",
    "    \n",
    "    payload={}\n",
    "    headers = {}\n",
    "    response = requests.request(\"GET\", url, params = params, headers=headers, data=payload)\n",
    "    print(response.text)\n",
    "    return Rev_2_Dic(json.loads(response.text)) #給成Dataframe的形式"
   ]
  },
  {
   "cell_type": "code",
   "execution_count": 9,
   "metadata": {},
   "outputs": [],
   "source": [
    "def Rev_2_Dic(place_info):\n",
    "    print(place_info)\n",
    "    num_review = len(place_info[\"result\"][\"reviews\"])\n",
    "    #print(num_place)\n",
    "    review = {}\n",
    "    \n",
    "    #review[\"name\"] = place_info[\"result\"][\"name\"]\n",
    "    review[\"review_text\"] = []\n",
    "    review[\"review_rating\"] = []\n",
    "    \n",
    "    for i in range(0, num_review):\n",
    "        #review[\"name\"].append(place_info[\"results\"][\"name\"])\n",
    "        \n",
    "        \n",
    "        try:\n",
    "            review[\"review_text\"].append(place_info[\"result\"][\"reviews\"][i][\"text\"]) #如果有review text 存到我們的 dict中\n",
    "            review[\"review_rating\"].append(place_info[\"result\"][\"reviews\"][i][\"rating\"])\n",
    "        except:\n",
    "#             print(\"rating error\")\n",
    "#             print(place_info[\"results\"][i][\"name\"])\n",
    "            review[\"review_text\"].append('None')\n",
    "            review[\"review_rating\"].append('None')\n",
    "            continue\n",
    "    \n",
    "    print(f'review:{review}')\n",
    "    return review"
   ]
  },
  {
   "cell_type": "code",
   "execution_count": 10,
   "metadata": {},
   "outputs": [
    {
     "name": "stdout",
     "output_type": "stream",
     "text": [
      "{\n",
      "   \"html_attributions\" : [],\n",
      "   \"result\" : {\n",
      "      \"name\" : \"日藏燒肉Yakiniku-中西精緻燒肉|和牛燒肉推薦|特色燒肉店|網美燒肉店|打卡燒肉店|人氣燒肉店\",\n",
      "      \"rating\" : 4.4,\n",
      "      \"reviews\" : [\n",
      "         {\n",
      "            \"rating\" : 2,\n",
      "            \"text\" : \"剛開店沒多久入店，飲料跟泡菜都上了但炭火等了20分鐘（在服務人員與現場客的對話中得知接下來定位都滿了，在這樣的狀況下我認為炭火不該等那麼久）第一輪點餐點了厚切牛舌、橫膈膜、和雞松板，橫膈膜跟雞松板的調味口感都非常好，雖然橫膈膜賣的比平均價位高一些我也覺得可以接受，但牛舌的部分一開始點餐有詢問服務人員牛舌切的厚度，他跟我說大概是一支原子筆的厚度（實測約0.8公分）這樣的厚度賣的貴了一點我也覺得可以接受，但送上桌時約只有服務人員描述的一半厚度並且左右厚薄不一，對於強調‘手切現切’的店家不該發生這樣的狀況吧（？）後續加點的牛肋條跟豬頰肉先說牛肋條，過度斷筋導致筋面烤到好入口的熟度時肉面已經過熟失去肉汁，同時加點的豬頰肉在吃完牛肋條後還沒上桌（現場不到五成滿且烤肉習慣是一次只烤一兩片肉）後續上桌表現也不甚理想，明明跟雞松板是同一種調味方式，雞肉表面是多汁舒服的、反之豬肉烤熟後表面乾柴不說還有豬味......\\n整場下來服務也是一般般，上菜時沒有介紹肉品，然後外場好像是新人有時候不是很清楚怎麼應對，快兩個小時的用餐體驗中稱的上貼心適切的服務應該只有炭火不足時主動加碳和等肉等到飲料喝完時有主動提供飲水，總觀整體用餐感受這個價位台南有許多燒肉店可供選擇並不會想特地到日藏用餐\\n另外日和的部分是要先預約才有現場沒有販售哦！不要撲空了！\"\n",
      "         },\n",
      "         {\n",
      "            \"rating\" : 5,\n",
      "            \"text\" : \"8/11 7:30\\n這次的用餐體驗相當豐富，我們一開始入內時客人沒有很多，店家的防疫措施做的相當周全，菜品在點菜完成後不到十五分鐘就來了，服務人員相當細心的幫我們處理牛舌和蒜蒜牛五花以及後續的一些菜品，得到我和另一位顧客相當高的評價。\\n\\n在菜品方面我認為肉類水準很高，既鮮嫩又多汁，油脂的分佈和香味也相當優秀，尤其是厚切牛舌更是絕讚，這道菜已經變成下次光顧時的必點品了；這次的雞肉只點了雞心，但爽脆的口感讓我印象深刻；海鮮方面選擇了軟絲和一夜干鹽烤花魚，店員還很熱心的在旁邊的爐子幫我們處理烤花魚，鮮味搭配上一點檸檬也是絕配。\\n\\nP.S.這間店的桌邊服務真的很棒，店員在處理肉品方面真的相當優秀，對於技巧背後的邏輯也絲毫不藏私地分享給我們，像我這種對烤肉技巧不精熟的食客也能在這裡獲得滿足的用餐體驗。\"\n",
      "         },\n",
      "         {\n",
      "            \"rating\" : 1,\n",
      "            \"text\" : \"實在很失望… 以爲google 評價很高會很不錯結果🙄….\\n一開始打來訂位時，以為生意爆好，還跟我們說7點沒位子，要7:30才有，到現場的時候只有3組客人….再來不知道為什麼裡面的員工疫情其間口罩都不會戴好，送水來只送一杯（我們明明就2個人）， 點完餐等了大概快半小時才陸續送上桌（當時店內只有另外三組客人），沒有服務態度就算了，連跟我們介紹是什麼肉都沒有！然後份量還少到難以置信！大家不要再被google評價騙了！（以上是4月份去吃的時候的感想）\"\n",
      "         },\n",
      "         {\n",
      "            \"rating\" : 2,\n",
      "            \"text\" : \"1、總共三桌，點完餐上了飲料後第一份肉過了20分鐘才上，這20分鐘兩個人坐在火前桌上空空，我們都快被烤熟。\\n\\n2、第一次點的綜合奶油菇，點餐後50幾分鐘接近一小時才上桌（中間有提醒過一次），而且還是生的，用一份生的奶油菇需要一小時嗎？不曉得。\\n\\n3、價位非常高檔，品質ok但全都份量太太太少（牛五花神級好吃，只推薦這個）兩個人已經點了快2k感覺只有三分飽⋯⋯決定結帳走人，這個速度和cp質我還是去吃SHOJO好了，開玩笑的大家不要去，休揪已經太難訂了。\\n\\n4、烤盤抽油煙的風力太小，感覺油煙吸得比較飽。\\n\\n5、後來加點的野菜是生的，結果上餐時是一般的包肉生菜，小小片4片左右（$60），肉都已經吃完才上，速度太慢之外點餐時也不先說⋯⋯\\n\\n6、肉品都太油。\\n\\n總結：cp質太低，粗估兩個人至少需要5k以上才會有飽足感，一次店。\\n\\n補：最後來的服務生看到我們沒有肉了主動幫我們把生菜退掉，多給一顆星。\"\n",
      "         },\n",
      "         {\n",
      "            \"rating\" : 5,\n",
      "            \"text\" : \"超級推薦的燒烤店！\\n尤其厚切牛舌～～～～～\\n老闆、老闆娘、店員都超級親切❤️\\n目前吃過最好吃也是最開心的燒烤店\\nCP值很高\\n值得給五顆星評價！\"\n",
      "         }\n",
      "      ]\n",
      "   },\n",
      "   \"status\" : \"OK\"\n",
      "}\n",
      "\n",
      "{'html_attributions': [], 'result': {'name': '日藏燒肉Yakiniku-中西精緻燒肉|和牛燒肉推薦|特色燒肉店|網美燒肉店|打卡燒肉店|人氣燒肉店', 'rating': 4.4, 'reviews': [{'rating': 2, 'text': '剛開店沒多久入店，飲料跟泡菜都上了但炭火等了20分鐘（在服務人員與現場客的對話中得知接下來定位都滿了，在這樣的狀況下我認為炭火不該等那麼久）第一輪點餐點了厚切牛舌、橫膈膜、和雞松板，橫膈膜跟雞松板的調味口感都非常好，雖然橫膈膜賣的比平均價位高一些我也覺得可以接受，但牛舌的部分一開始點餐有詢問服務人員牛舌切的厚度，他跟我說大概是一支原子筆的厚度（實測約0.8公分）這樣的厚度賣的貴了一點我也覺得可以接受，但送上桌時約只有服務人員描述的一半厚度並且左右厚薄不一，對於強調‘手切現切’的店家不該發生這樣的狀況吧（？）後續加點的牛肋條跟豬頰肉先說牛肋條，過度斷筋導致筋面烤到好入口的熟度時肉面已經過熟失去肉汁，同時加點的豬頰肉在吃完牛肋條後還沒上桌（現場不到五成滿且烤肉習慣是一次只烤一兩片肉）後續上桌表現也不甚理想，明明跟雞松板是同一種調味方式，雞肉表面是多汁舒服的、反之豬肉烤熟後表面乾柴不說還有豬味......\\n整場下來服務也是一般般，上菜時沒有介紹肉品，然後外場好像是新人有時候不是很清楚怎麼應對，快兩個小時的用餐體驗中稱的上貼心適切的服務應該只有炭火不足時主動加碳和等肉等到飲料喝完時有主動提供飲水，總觀整體用餐感受這個價位台南有許多燒肉店可供選擇並不會想特地到日藏用餐\\n另外日和的部分是要先預約才有現場沒有販售哦！不要撲空了！'}, {'rating': 5, 'text': '8/11 7:30\\n這次的用餐體驗相當豐富，我們一開始入內時客人沒有很多，店家的防疫措施做的相當周全，菜品在點菜完成後不到十五分鐘就來了，服務人員相當細心的幫我們處理牛舌和蒜蒜牛五花以及後續的一些菜品，得到我和另一位顧客相當高的評價。\\n\\n在菜品方面我認為肉類水準很高，既鮮嫩又多汁，油脂的分佈和香味也相當優秀，尤其是厚切牛舌更是絕讚，這道菜已經變成下次光顧時的必點品了；這次的雞肉只點了雞心，但爽脆的口感讓我印象深刻；海鮮方面選擇了軟絲和一夜干鹽烤花魚，店員還很熱心的在旁邊的爐子幫我們處理烤花魚，鮮味搭配上一點檸檬也是絕配。\\n\\nP.S.這間店的桌邊服務真的很棒，店員在處理肉品方面真的相當優秀，對於技巧背後的邏輯也絲毫不藏私地分享給我們，像我這種對烤肉技巧不精熟的食客也能在這裡獲得滿足的用餐體驗。'}, {'rating': 1, 'text': '實在很失望… 以爲google 評價很高會很不錯結果🙄….\\n一開始打來訂位時，以為生意爆好，還跟我們說7點沒位子，要7:30才有，到現場的時候只有3組客人….再來不知道為什麼裡面的員工疫情其間口罩都不會戴好，送水來只送一杯（我們明明就2個人）， 點完餐等了大概快半小時才陸續送上桌（當時店內只有另外三組客人），沒有服務態度就算了，連跟我們介紹是什麼肉都沒有！然後份量還少到難以置信！大家不要再被google評價騙了！（以上是4月份去吃的時候的感想）'}, {'rating': 2, 'text': '1、總共三桌，點完餐上了飲料後第一份肉過了20分鐘才上，這20分鐘兩個人坐在火前桌上空空，我們都快被烤熟。\\n\\n2、第一次點的綜合奶油菇，點餐後50幾分鐘接近一小時才上桌（中間有提醒過一次），而且還是生的，用一份生的奶油菇需要一小時嗎？不曉得。\\n\\n3、價位非常高檔，品質ok但全都份量太太太少（牛五花神級好吃，只推薦這個）兩個人已經點了快2k感覺只有三分飽⋯⋯決定結帳走人，這個速度和cp質我還是去吃SHOJO好了，開玩笑的大家不要去，休揪已經太難訂了。\\n\\n4、烤盤抽油煙的風力太小，感覺油煙吸得比較飽。\\n\\n5、後來加點的野菜是生的，結果上餐時是一般的包肉生菜，小小片4片左右（$60），肉都已經吃完才上，速度太慢之外點餐時也不先說⋯⋯\\n\\n6、肉品都太油。\\n\\n總結：cp質太低，粗估兩個人至少需要5k以上才會有飽足感，一次店。\\n\\n補：最後來的服務生看到我們沒有肉了主動幫我們把生菜退掉，多給一顆星。'}, {'rating': 5, 'text': '超級推薦的燒烤店！\\n尤其厚切牛舌～～～～～\\n老闆、老闆娘、店員都超級親切❤️\\n目前吃過最好吃也是最開心的燒烤店\\nCP值很高\\n值得給五顆星評價！'}]}, 'status': 'OK'}\n",
      "review:{'review_text': ['剛開店沒多久入店，飲料跟泡菜都上了但炭火等了20分鐘（在服務人員與現場客的對話中得知接下來定位都滿了，在這樣的狀況下我認為炭火不該等那麼久）第一輪點餐點了厚切牛舌、橫膈膜、和雞松板，橫膈膜跟雞松板的調味口感都非常好，雖然橫膈膜賣的比平均價位高一些我也覺得可以接受，但牛舌的部分一開始點餐有詢問服務人員牛舌切的厚度，他跟我說大概是一支原子筆的厚度（實測約0.8公分）這樣的厚度賣的貴了一點我也覺得可以接受，但送上桌時約只有服務人員描述的一半厚度並且左右厚薄不一，對於強調‘手切現切’的店家不該發生這樣的狀況吧（？）後續加點的牛肋條跟豬頰肉先說牛肋條，過度斷筋導致筋面烤到好入口的熟度時肉面已經過熟失去肉汁，同時加點的豬頰肉在吃完牛肋條後還沒上桌（現場不到五成滿且烤肉習慣是一次只烤一兩片肉）後續上桌表現也不甚理想，明明跟雞松板是同一種調味方式，雞肉表面是多汁舒服的、反之豬肉烤熟後表面乾柴不說還有豬味......\\n整場下來服務也是一般般，上菜時沒有介紹肉品，然後外場好像是新人有時候不是很清楚怎麼應對，快兩個小時的用餐體驗中稱的上貼心適切的服務應該只有炭火不足時主動加碳和等肉等到飲料喝完時有主動提供飲水，總觀整體用餐感受這個價位台南有許多燒肉店可供選擇並不會想特地到日藏用餐\\n另外日和的部分是要先預約才有現場沒有販售哦！不要撲空了！', '8/11 7:30\\n這次的用餐體驗相當豐富，我們一開始入內時客人沒有很多，店家的防疫措施做的相當周全，菜品在點菜完成後不到十五分鐘就來了，服務人員相當細心的幫我們處理牛舌和蒜蒜牛五花以及後續的一些菜品，得到我和另一位顧客相當高的評價。\\n\\n在菜品方面我認為肉類水準很高，既鮮嫩又多汁，油脂的分佈和香味也相當優秀，尤其是厚切牛舌更是絕讚，這道菜已經變成下次光顧時的必點品了；這次的雞肉只點了雞心，但爽脆的口感讓我印象深刻；海鮮方面選擇了軟絲和一夜干鹽烤花魚，店員還很熱心的在旁邊的爐子幫我們處理烤花魚，鮮味搭配上一點檸檬也是絕配。\\n\\nP.S.這間店的桌邊服務真的很棒，店員在處理肉品方面真的相當優秀，對於技巧背後的邏輯也絲毫不藏私地分享給我們，像我這種對烤肉技巧不精熟的食客也能在這裡獲得滿足的用餐體驗。', '實在很失望… 以爲google 評價很高會很不錯結果🙄….\\n一開始打來訂位時，以為生意爆好，還跟我們說7點沒位子，要7:30才有，到現場的時候只有3組客人….再來不知道為什麼裡面的員工疫情其間口罩都不會戴好，送水來只送一杯（我們明明就2個人）， 點完餐等了大概快半小時才陸續送上桌（當時店內只有另外三組客人），沒有服務態度就算了，連跟我們介紹是什麼肉都沒有！然後份量還少到難以置信！大家不要再被google評價騙了！（以上是4月份去吃的時候的感想）', '1、總共三桌，點完餐上了飲料後第一份肉過了20分鐘才上，這20分鐘兩個人坐在火前桌上空空，我們都快被烤熟。\\n\\n2、第一次點的綜合奶油菇，點餐後50幾分鐘接近一小時才上桌（中間有提醒過一次），而且還是生的，用一份生的奶油菇需要一小時嗎？不曉得。\\n\\n3、價位非常高檔，品質ok但全都份量太太太少（牛五花神級好吃，只推薦這個）兩個人已經點了快2k感覺只有三分飽⋯⋯決定結帳走人，這個速度和cp質我還是去吃SHOJO好了，開玩笑的大家不要去，休揪已經太難訂了。\\n\\n4、烤盤抽油煙的風力太小，感覺油煙吸得比較飽。\\n\\n5、後來加點的野菜是生的，結果上餐時是一般的包肉生菜，小小片4片左右（$60），肉都已經吃完才上，速度太慢之外點餐時也不先說⋯⋯\\n\\n6、肉品都太油。\\n\\n總結：cp質太低，粗估兩個人至少需要5k以上才會有飽足感，一次店。\\n\\n補：最後來的服務生看到我們沒有肉了主動幫我們把生菜退掉，多給一顆星。', '超級推薦的燒烤店！\\n尤其厚切牛舌～～～～～\\n老闆、老闆娘、店員都超級親切❤️\\n目前吃過最好吃也是最開心的燒烤店\\nCP值很高\\n值得給五顆星評價！'], 'review_rating': [2, 5, 1, 2, 5]}\n",
      "{'review_text': ['剛開店沒多久入店，飲料跟泡菜都上了但炭火等了20分鐘（在服務人員與現場客的對話中得知接下來定位都滿了，在這樣的狀況下我認為炭火不該等那麼久）第一輪點餐點了厚切牛舌、橫膈膜、和雞松板，橫膈膜跟雞松板的調味口感都非常好，雖然橫膈膜賣的比平均價位高一些我也覺得可以接受，但牛舌的部分一開始點餐有詢問服務人員牛舌切的厚度，他跟我說大概是一支原子筆的厚度（實測約0.8公分）這樣的厚度賣的貴了一點我也覺得可以接受，但送上桌時約只有服務人員描述的一半厚度並且左右厚薄不一，對於強調‘手切現切’的店家不該發生這樣的狀況吧（？）後續加點的牛肋條跟豬頰肉先說牛肋條，過度斷筋導致筋面烤到好入口的熟度時肉面已經過熟失去肉汁，同時加點的豬頰肉在吃完牛肋條後還沒上桌（現場不到五成滿且烤肉習慣是一次只烤一兩片肉）後續上桌表現也不甚理想，明明跟雞松板是同一種調味方式，雞肉表面是多汁舒服的、反之豬肉烤熟後表面乾柴不說還有豬味......\\n整場下來服務也是一般般，上菜時沒有介紹肉品，然後外場好像是新人有時候不是很清楚怎麼應對，快兩個小時的用餐體驗中稱的上貼心適切的服務應該只有炭火不足時主動加碳和等肉等到飲料喝完時有主動提供飲水，總觀整體用餐感受這個價位台南有許多燒肉店可供選擇並不會想特地到日藏用餐\\n另外日和的部分是要先預約才有現場沒有販售哦！不要撲空了！', '8/11 7:30\\n這次的用餐體驗相當豐富，我們一開始入內時客人沒有很多，店家的防疫措施做的相當周全，菜品在點菜完成後不到十五分鐘就來了，服務人員相當細心的幫我們處理牛舌和蒜蒜牛五花以及後續的一些菜品，得到我和另一位顧客相當高的評價。\\n\\n在菜品方面我認為肉類水準很高，既鮮嫩又多汁，油脂的分佈和香味也相當優秀，尤其是厚切牛舌更是絕讚，這道菜已經變成下次光顧時的必點品了；這次的雞肉只點了雞心，但爽脆的口感讓我印象深刻；海鮮方面選擇了軟絲和一夜干鹽烤花魚，店員還很熱心的在旁邊的爐子幫我們處理烤花魚，鮮味搭配上一點檸檬也是絕配。\\n\\nP.S.這間店的桌邊服務真的很棒，店員在處理肉品方面真的相當優秀，對於技巧背後的邏輯也絲毫不藏私地分享給我們，像我這種對烤肉技巧不精熟的食客也能在這裡獲得滿足的用餐體驗。', '實在很失望… 以爲google 評價很高會很不錯結果🙄….\\n一開始打來訂位時，以為生意爆好，還跟我們說7點沒位子，要7:30才有，到現場的時候只有3組客人….再來不知道為什麼裡面的員工疫情其間口罩都不會戴好，送水來只送一杯（我們明明就2個人）， 點完餐等了大概快半小時才陸續送上桌（當時店內只有另外三組客人），沒有服務態度就算了，連跟我們介紹是什麼肉都沒有！然後份量還少到難以置信！大家不要再被google評價騙了！（以上是4月份去吃的時候的感想）', '1、總共三桌，點完餐上了飲料後第一份肉過了20分鐘才上，這20分鐘兩個人坐在火前桌上空空，我們都快被烤熟。\\n\\n2、第一次點的綜合奶油菇，點餐後50幾分鐘接近一小時才上桌（中間有提醒過一次），而且還是生的，用一份生的奶油菇需要一小時嗎？不曉得。\\n\\n3、價位非常高檔，品質ok但全都份量太太太少（牛五花神級好吃，只推薦這個）兩個人已經點了快2k感覺只有三分飽⋯⋯決定結帳走人，這個速度和cp質我還是去吃SHOJO好了，開玩笑的大家不要去，休揪已經太難訂了。\\n\\n4、烤盤抽油煙的風力太小，感覺油煙吸得比較飽。\\n\\n5、後來加點的野菜是生的，結果上餐時是一般的包肉生菜，小小片4片左右（$60），肉都已經吃完才上，速度太慢之外點餐時也不先說⋯⋯\\n\\n6、肉品都太油。\\n\\n總結：cp質太低，粗估兩個人至少需要5k以上才會有飽足感，一次店。\\n\\n補：最後來的服務生看到我們沒有肉了主動幫我們把生菜退掉，多給一顆星。', '超級推薦的燒烤店！\\n尤其厚切牛舌～～～～～\\n老闆、老闆娘、店員都超級親切❤️\\n目前吃過最好吃也是最開心的燒烤店\\nCP值很高\\n值得給五顆星評價！'], 'review_rating': [2, 5, 1, 2, 5]}\n"
     ]
    }
   ],
   "source": [
    "test = get_place_rev(API_keys, \"ChIJJZT_vnN3bjQR3ynoi2XoMqc\") #測試一個特定地點\n",
    "print(test)"
   ]
  },
  {
   "cell_type": "markdown",
   "metadata": {},
   "source": [
    "# Combine Review into PlaceFinding \n",
    "這邊還沒做"
   ]
  },
  {
   "cell_type": "raw",
   "metadata": {},
   "source": [
    "def Info_2_Dic(place_info):\n",
    "    num_place = len(place_info[\"results\"])\n",
    "    print(num_place)\n",
    "    information = {}\n",
    "    \n",
    "    dic_data = lambda x : [place_info[\"results\"][i][x] for i in range(0, num_place)]\n",
    "    \n",
    "    information[\"name\"] = []\n",
    "    information[\"place_id\"] = []\n",
    "    information[\"types\"] = []\n",
    "    information[\"lat\"] = []\n",
    "    information[\"lng\"] = []\n",
    "    information[\"rating\"] = []\n",
    "    information[\"user_ratings_total\"] = []\n",
    "    \n",
    "    information[\"reviews\"] = []\n",
    "    \n",
    "    for i in range(0, num_place):\n",
    "        information[\"name\"].append(place_info[\"results\"][i][\"name\"])\n",
    "        information[\"place_id\"].append(place_info[\"results\"][i][\"place_id\"])\n",
    "        information[\"types\"].append(place_info[\"results\"][i][\"types\"])\n",
    "        information[\"lat\"].append(place_info[\"results\"][i]['geometry']['location'][\"lat\"])\n",
    "        information[\"lng\"].append(place_info[\"results\"][i]['geometry']['location'][\"lng\"])\n",
    "        \n",
    "        try:\n",
    "            information[\"rating\"].append(place_info[\"results\"][i][\"rating\"])\n",
    "            information[\"user_ratings_total\"].append(place_info[\"results\"][i][\"user_ratings_total\"])\n",
    "            information[\"reviews\"].append()\n",
    "        except:\n",
    "#             print(\"rating error\")\n",
    "#             print(place_info[\"results\"][i][\"name\"])\n",
    "            information[\"rating\"].append(0)\n",
    "            information[\"user_ratings_total\"].append(0)\n",
    "            continue\n",
    "    \n",
    "    #print(information)\n",
    "    return pd.DataFrame(information)"
   ]
  },
  {
   "cell_type": "raw",
   "metadata": {},
   "source": [
    "def get_place_info(API_keys, lat, lon, radius, type_place):\n",
    "    \n",
    "    \n",
    "    url = \"https://maps.googleapis.com/maps/api/place/nearbysearch/json?\"\n",
    "    \n",
    "    params = { \n",
    "        \"location\": str(lat) + \",\" + str(lon),\n",
    "        \"radius\" : str(radius),\n",
    "        \"type\" : type_place,\n",
    "        \"fields\" :  \"name,rating,formatted_phone_number,geometry\",\n",
    "        \"place_id\" : \"ChIJB7ZNzXI2aDQREwR22ltdKxE\",\n",
    "        \"key\" : API_keys,\n",
    "        \"language\" : \"zh-TW\",\n",
    "             }\n",
    "    \n",
    "    payload={}\n",
    "    headers = {}\n",
    "    response = requests.request(\"GET\", url, params = params, headers=headers, data=payload)\n",
    "    #print(response.url)\n",
    "    return Info_2_Dic(json.loads(response.text))"
   ]
  }
 ],
 "metadata": {
  "kernelspec": {
   "display_name": "Python 3",
   "language": "python",
   "name": "python3"
  },
  "language_info": {
   "codemirror_mode": {
    "name": "ipython",
    "version": 3
   },
   "file_extension": ".py",
   "mimetype": "text/x-python",
   "name": "python",
   "nbconvert_exporter": "python",
   "pygments_lexer": "ipython3",
   "version": "3.7.0"
  }
 },
 "nbformat": 4,
 "nbformat_minor": 2
}
