{
 "cells": [
  {
   "cell_type": "markdown",
   "metadata": {},
   "source": [
    "# Google Map Data\n",
    "\n",
    "API key : Your API  \n",
    "API 用量 : https://console.cloud.google.com/google/maps-apis/overview?project=nth-station-323312"
   ]
  },
  {
   "cell_type": "code",
   "execution_count": 5,
   "metadata": {},
   "outputs": [],
   "source": [
    "import requests\n",
    "import json\n",
    "import pandas as pd"
   ]
  },
  {
   "cell_type": "markdown",
   "metadata": {},
   "source": [
    "# Nearby Search \n",
    "https://developers.google.com/maps/documentation/javascript/reference/places-service#PlaceSearchRequest\n",
    "https://developers.google.com/maps/documentation/places/web-service/search-find-place#maps_http_places_findplacefromtext_mca-py\n",
    "\n",
    "\n",
    "\n",
    "## Type\n",
    "\n",
    "reference form : https://developers.google.com/maps/documentation/places/web-service/supported_types\n",
    "\n",
    "Some useful types of place are listed below:  \n",
    "\n",
    "amusement_park,  aquarium, art_gallery, bar, book_store, **cafe**, church, clothing_store, department_store, hindu_temple, mosque(清真寺), movie_theater, museum, museum, night_club, park, night_club, **restaurant**, shopping_mall, **tourist_attraction**, subway_station, university, library, **food**, **landmark**, **natural_feature**, **point_of_interest**\n"
   ]
  },
  {
   "cell_type": "code",
   "execution_count": 121,
   "metadata": {},
   "outputs": [],
   "source": [
    "def Info_2_Dic(place_info):\n",
    "    num_place = len(place_info[\"results\"])\n",
    "    print(num_place)\n",
    "    information = {}\n",
    "    \n",
    "    dic_data = lambda x : [place_info[\"results\"][i][x] for i in range(0, num_place)]\n",
    "    \n",
    "    information[\"name\"] = []\n",
    "    information[\"place_id\"] = []\n",
    "    information[\"types\"] = []\n",
    "    information[\"lat\"] = []\n",
    "    information[\"lng\"] = []\n",
    "    information[\"rating\"] = []\n",
    "    information[\"user_ratings_total\"] = []\n",
    "    \n",
    "    for i in range(0, num_place):\n",
    "        information[\"name\"].append(place_info[\"results\"][i][\"name\"])\n",
    "        information[\"place_id\"].append(place_info[\"results\"][i][\"place_id\"])\n",
    "        information[\"types\"].append(place_info[\"results\"][i][\"types\"])\n",
    "        information[\"lat\"].append(place_info[\"results\"][i]['geometry']['location'][\"lat\"])\n",
    "        information[\"lng\"].append(place_info[\"results\"][i]['geometry']['location'][\"lng\"])\n",
    "        \n",
    "        try:\n",
    "            information[\"rating\"].append(place_info[\"results\"][i][\"rating\"])\n",
    "            information[\"user_ratings_total\"].append(place_info[\"results\"][i][\"user_ratings_total\"])\n",
    "        except:\n",
    "#             print(\"rating error\")\n",
    "#             print(place_info[\"results\"][i][\"name\"])\n",
    "            information[\"rating\"].append(0)\n",
    "            information[\"user_ratings_total\"].append(0)\n",
    "            continue\n",
    "    \n",
    "    #print(information)\n",
    "    return pd.DataFrame(information)"
   ]
  },
  {
   "cell_type": "code",
   "execution_count": 127,
   "metadata": {},
   "outputs": [],
   "source": [
    "def get_place_info(API_keys, lat, lon, radius, type_place):\n",
    "    \n",
    "    \n",
    "    url = \"https://maps.googleapis.com/maps/api/place/nearbysearch/json?\"\n",
    "    \n",
    "    params = { \n",
    "        \"location\": str(lat) + \",\" + str(lon),\n",
    "        \"radius\" : str(radius),\n",
    "        \"type\" : type_place,\n",
    "        \"fields\" :  \"name,rating,formatted_phone_number,geometry\",\n",
    "        \"place_id\" : \"ChIJB7ZNzXI2aDQREwR22ltdKxE\",\n",
    "        \"key\" : API_keys,\n",
    "        \"language\" : \"zh-TW\",\n",
    "             }\n",
    "    \n",
    "    payload={}\n",
    "    headers = {}\n",
    "    response = requests.request(\"GET\", url, params = params, headers=headers, data=payload)\n",
    "    #print(response.url)\n",
    "    return Info_2_Dic(json.loads(response.text))"
   ]
  },
  {
   "cell_type": "code",
   "execution_count": 128,
   "metadata": {},
   "outputs": [
    {
     "name": "stdout",
     "output_type": "stream",
     "text": [
      "11\n"
     ]
    }
   ],
   "source": [
    "API_keys = \n",
    "lat = 24.79703723162301\n",
    "lon = 120.99636949032364\n",
    "test_loc = get_place_info(API_keys, lat, lon, 90, \"restaurant\")"
   ]
  },
  {
   "cell_type": "code",
   "execution_count": 129,
   "metadata": {},
   "outputs": [
    {
     "name": "stdout",
     "output_type": "stream",
     "text": [
      "                     name                     place_id  \\\n",
      "0                 十六區和風料理  ChIJa1FP13I2aDQRxBkPogHSIPE   \n",
      "1                    甘泉魚麵  ChIJ_UmSJ3M2aDQRGpQ4UoYLGqg   \n",
      "2                老陳記北方麵食館  ChIJadAcIXM2aDQRx7YtbMTmPAc   \n",
      "3   Niko's Pizzeria 你一口比薩  ChIJrUw113I2aDQRMW4p8PlXUHc   \n",
      "4           JJ Cheers Bar  ChIJcXXMJXM2aDQRb_XUTZUDUtE   \n",
      "5                甲黑哥平價小火鍋  ChIJQVX9r-43aDQRnQd9z10C3RQ   \n",
      "6                   大鼓肉夾饃  ChIJB12y0XI2aDQRZlSYHSHVi94   \n",
      "7      摩斯漢堡新竹清華店 (清華大學對面）  ChIJq662EWA3aDQRHEUPUKy-q8o   \n",
      "8                    本丸早餐  ChIJxb8szHI2aDQRzeE4owh8s9M   \n",
      "9                    港島主麵  ChIJhYR6w9Y3aDQRwaSVbcoBBwU   \n",
      "10                 紅吱吱牛排館  ChIJ1xxnzHI2aDQRnUv29iXGsLg   \n",
      "\n",
      "                                                types        lat         lng  \\\n",
      "0   [restaurant, food, point_of_interest, establis...  24.797274  120.996559   \n",
      "1   [restaurant, food, point_of_interest, establis...  24.797604  120.996101   \n",
      "2   [restaurant, food, point_of_interest, establis...  24.797747  120.996138   \n",
      "3   [meal_takeaway, restaurant, food, point_of_int...  24.797252  120.996627   \n",
      "4   [restaurant, food, point_of_interest, establis...  24.797655  120.996078   \n",
      "5   [restaurant, food, point_of_interest, establis...  24.797472  120.996361   \n",
      "6   [restaurant, food, point_of_interest, establis...  24.797125  120.996796   \n",
      "7   [restaurant, food, point_of_interest, establis...  24.797058  120.996852   \n",
      "8   [restaurant, food, point_of_interest, establis...  24.796834  120.997137   \n",
      "9   [restaurant, food, point_of_interest, establis...  24.797868  120.996367   \n",
      "10  [restaurant, food, point_of_interest, establis...  24.796802  120.997192   \n",
      "\n",
      "    rating  user_ratings_total  \n",
      "0      4.0                1092  \n",
      "1      4.0                 588  \n",
      "2      2.5                 527  \n",
      "3      4.1                 106  \n",
      "4      4.9                 923  \n",
      "5      4.0                 116  \n",
      "6      4.2                 540  \n",
      "7      2.9                  39  \n",
      "8      0.0                   0  \n",
      "9      4.1                 157  \n",
      "10     3.9                1312  \n"
     ]
    }
   ],
   "source": [
    "print(test_loc)"
   ]
  },
  {
   "cell_type": "markdown",
   "metadata": {},
   "source": [
    "# Get Review"
   ]
  },
  {
   "cell_type": "code",
   "execution_count": 142,
   "metadata": {},
   "outputs": [
    {
     "name": "stdout",
     "output_type": "stream",
     "text": [
      "https://maps.googleapis.com/maps/api/place/details/json?\n",
      "{\n",
      "   \"html_attributions\" : [],\n",
      "   \"result\" : {\n",
      "      \"name\" : \"日藏燒肉Yakiniku-中西精緻燒肉|和牛燒肉推薦|特色燒肉店|網美燒肉店|打卡燒肉店|人氣燒肉店\",\n",
      "      \"rating\" : 4.5,\n",
      "      \"reviews\" : [\n",
      "         {\n",
      "            \"rating\" : 5,\n",
      "            \"text\" : \"8/11 7:30\\n這次的用餐體驗相當豐富，我們一開始入內時客人沒有很多，店家的防疫措施做的相當周全，菜品在點菜完成後不到十五分鐘就來了，服務人員相當細心的幫我們處理牛舌和蒜蒜牛五花以及後續的一些菜品，得到我和另一位顧客相當高的評價。\\n\\n在菜品方面我認為肉類水準很高，既鮮嫩又多汁，油脂的分佈和香味也相當優秀，尤其是厚切牛舌更是絕讚，這道菜已經變成下次光顧時的必點品了；這次的雞肉只點了雞心，但爽脆的口感讓我印象深刻；海鮮方面選擇了軟絲和一夜干鹽烤花魚，店員還很熱心的在旁邊的爐子幫我們處理烤花魚，鮮味搭配上一點檸檬也是絕配。\\n\\nP.S.這間店的桌邊服務真的很棒，店員在處理肉品方面真的相當優秀，對於技巧背後的邏輯也絲毫不藏私地分享給我們，像我這種對烤肉技巧不精熟的食客也能在這裡獲得滿足的用餐體驗。\"\n",
      "         },\n",
      "         {\n",
      "            \"rating\" : 2,\n",
      "            \"text\" : \"剛開店沒多久入店，飲料跟泡菜都上了但炭火等了20分鐘（在服務人員與現場客的對話中得知接下來定位都滿了，在這樣的狀況下我認為炭火不該等那麼久）第一輪點餐點了厚切牛舌、橫膈膜、和雞松板，橫膈膜跟雞松板的調味口感都非常好，雖然橫膈膜賣的比平均價位高一些我也覺得可以接受，但牛舌的部分一開始點餐有詢問服務人員牛舌切的厚度，他跟我說大概是一支原子筆的厚度（實測約0.8公分）這樣的厚度賣的貴了一點我也覺得可以接受，但送上桌時約只有服務人員描述的一半厚度並且左右厚薄不一，對於強調‘手切現切’的店家不該發生這樣的狀況吧（？）後續加點的牛肋條跟豬頰肉先說牛肋條，過度斷筋導致筋面烤到好入口的熟度時肉面已經過熟失去肉汁，同時加點的豬頰肉在吃完牛肋條後還沒上桌（現場不到五成滿且烤肉習慣是一次只烤一兩片肉）後續上桌表現也不甚理想，明明跟雞松板是同一種調味方式，雞肉表面是多汁舒服的、反之豬肉烤熟後表面乾柴不說還有豬味......\\n整場下來服務也是一般般，上菜時沒有介紹肉品，然後外場好像是新人有時候不是很清楚怎麼應對，快兩個小時的用餐體驗中稱的上貼心適切的服務應該只有炭火不足時主動加碳和等肉等到飲料喝完時有主動提供飲水，總觀整體用餐感受這個價位台南有許多燒肉店可供選擇並不會想特地到日藏用餐\\n另外日和的部分是要先預約才有現場沒有販售哦！不要撲空了！\"\n",
      "         },\n",
      "         {\n",
      "            \"rating\" : 2,\n",
      "            \"text\" : \"1、總共三桌，點完餐上了飲料後第一份肉過了20分鐘才上，這20分鐘兩個人坐在火前桌上空空，我們都快被烤熟。\\n\\n2、第一次點的綜合奶油菇，點餐後50幾分鐘接近一小時才上桌（中間有提醒過一次），而且還是生的，用一份生的奶油菇需要一小時嗎？不曉得。\\n\\n3、價位非常高檔，品質ok但全都份量太太太少（牛五花神級好吃，只推薦這個）兩個人已經點了快2k感覺只有三分飽⋯⋯決定結帳走人，這個速度和cp質我還是去吃SHOJO好了，開玩笑的大家不要去，休揪已經太難訂了。\\n\\n4、烤盤抽油煙的風力太小，感覺油煙吸得比較飽。\\n\\n5、後來加點的野菜是生的，結果上餐時是一般的包肉生菜，小小片4片左右（$60），肉都已經吃完才上，速度太慢之外點餐時也不先說⋯⋯\\n\\n6、肉品都太油。\\n\\n總結：cp質太低，粗估兩個人至少需要5k以上才會有飽足感，一次店。\\n\\n補：最後來的服務生看到我們沒有肉了主動幫我們把生菜退掉，多給一顆星。\"\n",
      "         },\n",
      "         {\n",
      "            \"rating\" : 5,\n",
      "            \"text\" : \"疫情期間超級想吃燒肉的\\n於是解封後立即預約日藏燒肉\\n果然好吃😋👍🏻\\n服務人員也很親切的接待\\n開放式的廚房環境非常乾淨\\n份量雖然偏少\\n但用料都很新鮮很實在\\n非常喜歡「鹽蔥牛舌」及「鮭魚卵北海道干貝」\\n手工冰淇淋的口味是焙茶及抹茶🍵\\n兩人大約吃了1700左右（含服務費）\\n\\n整體而言是台南很棒的燒肉店🥰\"\n",
      "         },\n",
      "         {\n",
      "            \"rating\" : 3,\n",
      "            \"text\" : \"整體來說菜色偏少，因為第一次去想說是和牛燒肉，應該有不少選擇\\n不過現場只有澳洲和牛，日本和牛都是要預訂才會有（連櫻桃鴨胸也是）\\n價格也偏高些我不介意，但是沒有把精緻度做出來，很可惜\\n裡面最推奶油清酒蛤蠣跟牛橫隔膜，尤其是牛橫隔膜跟我以前在日本吃的調味很像我很喜歡\\n\\n相較其他燒肉店，這個服務費收的很不值\\n服務生送餐得時候也不會說是什麼肉，也是我們自己問的\\n不主動幫忙換烤網，都要自己叫服務生來換\\n如果只是端菜跟收桌子那一般小吃店也都可以收服務費了\\n重點是去的時段人不多，看不出來有什麼忙到無法微笑的狀況\\n要收服務費就要有服務的精神，不是說要多好，但是態度可以溫暖一點會更好：）\"\n",
      "         }\n",
      "      ]\n",
      "   },\n",
      "   \"status\" : \"OK\"\n",
      "}\n",
      "\n"
     ]
    }
   ],
   "source": [
    "API_keys = \n",
    "\n",
    "url = \"https://maps.googleapis.com/maps/api/place/details/json?\" \n",
    "print(url)\n",
    "payload={}\n",
    "headers = {}\n",
    "params = {\"fields\" :  \"name,rating,review/text,review/rating\",\n",
    "          \"place_id\" : \"ChIJJZT_vnN3bjQR3ynoi2XoMqc\",\n",
    "          \"key\" : API_keys,\n",
    "          \"language\" : \"zh-TW\",\n",
    "          \n",
    "         }\n",
    "\n",
    "response = requests.request(\"GET\", url, params = params, headers=headers, data=payload)\n",
    "print(response.text)"
   ]
  },
  {
   "cell_type": "code",
   "execution_count": 185,
   "metadata": {},
   "outputs": [],
   "source": [
    "#print(json.loads(response.text)[\"result\"][\"reviews\"])"
   ]
  },
  {
   "cell_type": "code",
   "execution_count": 186,
   "metadata": {},
   "outputs": [],
   "source": [
    "def get_place_rev(API_keys, place_ID):\n",
    "\n",
    "    url = \"https://maps.googleapis.com/maps/api/place/details/json?\"\n",
    "    \n",
    "    params = {\"fields\" :  \"name,rating,review/text,review/rating\",\n",
    "          \"place_id\" : place_ID,\n",
    "          \"key\" : API_keys,\n",
    "          \"language\" : \"zh-TW\",\n",
    "          \n",
    "         }\n",
    "    \n",
    "    payload={}\n",
    "    headers = {}\n",
    "    response = requests.request(\"GET\", url, params = params, headers=headers, data=payload)\n",
    "    print(response.text)\n",
    "    return Rev_2_Dic(json.loads(response.text))"
   ]
  },
  {
   "cell_type": "code",
   "execution_count": 187,
   "metadata": {},
   "outputs": [],
   "source": [
    "def Rev_2_Dic(place_info):\n",
    "    print(place_info)\n",
    "    num_review = len(place_info[\"result\"][\"reviews\"])\n",
    "    #print(num_place)\n",
    "    review = {}\n",
    "    \n",
    "    #review[\"name\"] = place_info[\"result\"][\"name\"]\n",
    "    review[\"review_text\"] = []\n",
    "    review[\"review_rating\"] = []\n",
    "    \n",
    "    for i in range(0, num_review):\n",
    "        #review[\"name\"].append(place_info[\"results\"][\"name\"])\n",
    "        \n",
    "        \n",
    "        try:\n",
    "            review[\"review_text\"].append(place_info[\"result\"][\"reviews\"][i][\"text\"])\n",
    "            review[\"review_rating\"].append(place_info[\"result\"][\"reviews\"][i][\"rating\"])\n",
    "        except:\n",
    "#             print(\"rating error\")\n",
    "#             print(place_info[\"results\"][i][\"name\"])\n",
    "            review[\"review_text\"].append('None')\n",
    "            review[\"review_rating\"].append('None')\n",
    "            continue\n",
    "    \n",
    "    print(f'review:{review}')\n",
    "    return review"
   ]
  },
  {
   "cell_type": "code",
   "execution_count": 188,
   "metadata": {},
   "outputs": [
    {
     "name": "stdout",
     "output_type": "stream",
     "text": [
      "{\n",
      "   \"html_attributions\" : [],\n",
      "   \"result\" : {\n",
      "      \"name\" : \"日藏燒肉Yakiniku-中西精緻燒肉|和牛燒肉推薦|特色燒肉店|網美燒肉店|打卡燒肉店|人氣燒肉店\",\n",
      "      \"rating\" : 4.5,\n",
      "      \"reviews\" : [\n",
      "         {\n",
      "            \"rating\" : 5,\n",
      "            \"text\" : \"8/11 7:30\\n這次的用餐體驗相當豐富，我們一開始入內時客人沒有很多，店家的防疫措施做的相當周全，菜品在點菜完成後不到十五分鐘就來了，服務人員相當細心的幫我們處理牛舌和蒜蒜牛五花以及後續的一些菜品，得到我和另一位顧客相當高的評價。\\n\\n在菜品方面我認為肉類水準很高，既鮮嫩又多汁，油脂的分佈和香味也相當優秀，尤其是厚切牛舌更是絕讚，這道菜已經變成下次光顧時的必點品了；這次的雞肉只點了雞心，但爽脆的口感讓我印象深刻；海鮮方面選擇了軟絲和一夜干鹽烤花魚，店員還很熱心的在旁邊的爐子幫我們處理烤花魚，鮮味搭配上一點檸檬也是絕配。\\n\\nP.S.這間店的桌邊服務真的很棒，店員在處理肉品方面真的相當優秀，對於技巧背後的邏輯也絲毫不藏私地分享給我們，像我這種對烤肉技巧不精熟的食客也能在這裡獲得滿足的用餐體驗。\"\n",
      "         },\n",
      "         {\n",
      "            \"rating\" : 2,\n",
      "            \"text\" : \"剛開店沒多久入店，飲料跟泡菜都上了但炭火等了20分鐘（在服務人員與現場客的對話中得知接下來定位都滿了，在這樣的狀況下我認為炭火不該等那麼久）第一輪點餐點了厚切牛舌、橫膈膜、和雞松板，橫膈膜跟雞松板的調味口感都非常好，雖然橫膈膜賣的比平均價位高一些我也覺得可以接受，但牛舌的部分一開始點餐有詢問服務人員牛舌切的厚度，他跟我說大概是一支原子筆的厚度（實測約0.8公分）這樣的厚度賣的貴了一點我也覺得可以接受，但送上桌時約只有服務人員描述的一半厚度並且左右厚薄不一，對於強調‘手切現切’的店家不該發生這樣的狀況吧（？）後續加點的牛肋條跟豬頰肉先說牛肋條，過度斷筋導致筋面烤到好入口的熟度時肉面已經過熟失去肉汁，同時加點的豬頰肉在吃完牛肋條後還沒上桌（現場不到五成滿且烤肉習慣是一次只烤一兩片肉）後續上桌表現也不甚理想，明明跟雞松板是同一種調味方式，雞肉表面是多汁舒服的、反之豬肉烤熟後表面乾柴不說還有豬味......\\n整場下來服務也是一般般，上菜時沒有介紹肉品，然後外場好像是新人有時候不是很清楚怎麼應對，快兩個小時的用餐體驗中稱的上貼心適切的服務應該只有炭火不足時主動加碳和等肉等到飲料喝完時有主動提供飲水，總觀整體用餐感受這個價位台南有許多燒肉店可供選擇並不會想特地到日藏用餐\\n另外日和的部分是要先預約才有現場沒有販售哦！不要撲空了！\"\n",
      "         },\n",
      "         {\n",
      "            \"rating\" : 2,\n",
      "            \"text\" : \"1、總共三桌，點完餐上了飲料後第一份肉過了20分鐘才上，這20分鐘兩個人坐在火前桌上空空，我們都快被烤熟。\\n\\n2、第一次點的綜合奶油菇，點餐後50幾分鐘接近一小時才上桌（中間有提醒過一次），而且還是生的，用一份生的奶油菇需要一小時嗎？不曉得。\\n\\n3、價位非常高檔，品質ok但全都份量太太太少（牛五花神級好吃，只推薦這個）兩個人已經點了快2k感覺只有三分飽⋯⋯決定結帳走人，這個速度和cp質我還是去吃SHOJO好了，開玩笑的大家不要去，休揪已經太難訂了。\\n\\n4、烤盤抽油煙的風力太小，感覺油煙吸得比較飽。\\n\\n5、後來加點的野菜是生的，結果上餐時是一般的包肉生菜，小小片4片左右（$60），肉都已經吃完才上，速度太慢之外點餐時也不先說⋯⋯\\n\\n6、肉品都太油。\\n\\n總結：cp質太低，粗估兩個人至少需要5k以上才會有飽足感，一次店。\\n\\n補：最後來的服務生看到我們沒有肉了主動幫我們把生菜退掉，多給一顆星。\"\n",
      "         },\n",
      "         {\n",
      "            \"rating\" : 5,\n",
      "            \"text\" : \"疫情期間超級想吃燒肉的\\n於是解封後立即預約日藏燒肉\\n果然好吃😋👍🏻\\n服務人員也很親切的接待\\n開放式的廚房環境非常乾淨\\n份量雖然偏少\\n但用料都很新鮮很實在\\n非常喜歡「鹽蔥牛舌」及「鮭魚卵北海道干貝」\\n手工冰淇淋的口味是焙茶及抹茶🍵\\n兩人大約吃了1700左右（含服務費）\\n\\n整體而言是台南很棒的燒肉店🥰\"\n",
      "         },\n",
      "         {\n",
      "            \"rating\" : 3,\n",
      "            \"text\" : \"整體來說菜色偏少，因為第一次去想說是和牛燒肉，應該有不少選擇\\n不過現場只有澳洲和牛，日本和牛都是要預訂才會有（連櫻桃鴨胸也是）\\n價格也偏高些我不介意，但是沒有把精緻度做出來，很可惜\\n裡面最推奶油清酒蛤蠣跟牛橫隔膜，尤其是牛橫隔膜跟我以前在日本吃的調味很像我很喜歡\\n\\n相較其他燒肉店，這個服務費收的很不值\\n服務生送餐得時候也不會說是什麼肉，也是我們自己問的\\n不主動幫忙換烤網，都要自己叫服務生來換\\n如果只是端菜跟收桌子那一般小吃店也都可以收服務費了\\n重點是去的時段人不多，看不出來有什麼忙到無法微笑的狀況\\n要收服務費就要有服務的精神，不是說要多好，但是態度可以溫暖一點會更好：）\"\n",
      "         }\n",
      "      ]\n",
      "   },\n",
      "   \"status\" : \"OK\"\n",
      "}\n",
      "\n",
      "{'html_attributions': [], 'result': {'name': '日藏燒肉Yakiniku-中西精緻燒肉|和牛燒肉推薦|特色燒肉店|網美燒肉店|打卡燒肉店|人氣燒肉店', 'rating': 4.5, 'reviews': [{'rating': 5, 'text': '8/11 7:30\\n這次的用餐體驗相當豐富，我們一開始入內時客人沒有很多，店家的防疫措施做的相當周全，菜品在點菜完成後不到十五分鐘就來了，服務人員相當細心的幫我們處理牛舌和蒜蒜牛五花以及後續的一些菜品，得到我和另一位顧客相當高的評價。\\n\\n在菜品方面我認為肉類水準很高，既鮮嫩又多汁，油脂的分佈和香味也相當優秀，尤其是厚切牛舌更是絕讚，這道菜已經變成下次光顧時的必點品了；這次的雞肉只點了雞心，但爽脆的口感讓我印象深刻；海鮮方面選擇了軟絲和一夜干鹽烤花魚，店員還很熱心的在旁邊的爐子幫我們處理烤花魚，鮮味搭配上一點檸檬也是絕配。\\n\\nP.S.這間店的桌邊服務真的很棒，店員在處理肉品方面真的相當優秀，對於技巧背後的邏輯也絲毫不藏私地分享給我們，像我這種對烤肉技巧不精熟的食客也能在這裡獲得滿足的用餐體驗。'}, {'rating': 2, 'text': '剛開店沒多久入店，飲料跟泡菜都上了但炭火等了20分鐘（在服務人員與現場客的對話中得知接下來定位都滿了，在這樣的狀況下我認為炭火不該等那麼久）第一輪點餐點了厚切牛舌、橫膈膜、和雞松板，橫膈膜跟雞松板的調味口感都非常好，雖然橫膈膜賣的比平均價位高一些我也覺得可以接受，但牛舌的部分一開始點餐有詢問服務人員牛舌切的厚度，他跟我說大概是一支原子筆的厚度（實測約0.8公分）這樣的厚度賣的貴了一點我也覺得可以接受，但送上桌時約只有服務人員描述的一半厚度並且左右厚薄不一，對於強調‘手切現切’的店家不該發生這樣的狀況吧（？）後續加點的牛肋條跟豬頰肉先說牛肋條，過度斷筋導致筋面烤到好入口的熟度時肉面已經過熟失去肉汁，同時加點的豬頰肉在吃完牛肋條後還沒上桌（現場不到五成滿且烤肉習慣是一次只烤一兩片肉）後續上桌表現也不甚理想，明明跟雞松板是同一種調味方式，雞肉表面是多汁舒服的、反之豬肉烤熟後表面乾柴不說還有豬味......\\n整場下來服務也是一般般，上菜時沒有介紹肉品，然後外場好像是新人有時候不是很清楚怎麼應對，快兩個小時的用餐體驗中稱的上貼心適切的服務應該只有炭火不足時主動加碳和等肉等到飲料喝完時有主動提供飲水，總觀整體用餐感受這個價位台南有許多燒肉店可供選擇並不會想特地到日藏用餐\\n另外日和的部分是要先預約才有現場沒有販售哦！不要撲空了！'}, {'rating': 2, 'text': '1、總共三桌，點完餐上了飲料後第一份肉過了20分鐘才上，這20分鐘兩個人坐在火前桌上空空，我們都快被烤熟。\\n\\n2、第一次點的綜合奶油菇，點餐後50幾分鐘接近一小時才上桌（中間有提醒過一次），而且還是生的，用一份生的奶油菇需要一小時嗎？不曉得。\\n\\n3、價位非常高檔，品質ok但全都份量太太太少（牛五花神級好吃，只推薦這個）兩個人已經點了快2k感覺只有三分飽⋯⋯決定結帳走人，這個速度和cp質我還是去吃SHOJO好了，開玩笑的大家不要去，休揪已經太難訂了。\\n\\n4、烤盤抽油煙的風力太小，感覺油煙吸得比較飽。\\n\\n5、後來加點的野菜是生的，結果上餐時是一般的包肉生菜，小小片4片左右（$60），肉都已經吃完才上，速度太慢之外點餐時也不先說⋯⋯\\n\\n6、肉品都太油。\\n\\n總結：cp質太低，粗估兩個人至少需要5k以上才會有飽足感，一次店。\\n\\n補：最後來的服務生看到我們沒有肉了主動幫我們把生菜退掉，多給一顆星。'}, {'rating': 5, 'text': '疫情期間超級想吃燒肉的\\n於是解封後立即預約日藏燒肉\\n果然好吃😋👍🏻\\n服務人員也很親切的接待\\n開放式的廚房環境非常乾淨\\n份量雖然偏少\\n但用料都很新鮮很實在\\n非常喜歡「鹽蔥牛舌」及「鮭魚卵北海道干貝」\\n手工冰淇淋的口味是焙茶及抹茶🍵\\n兩人大約吃了1700左右（含服務費）\\n\\n整體而言是台南很棒的燒肉店🥰'}, {'rating': 3, 'text': '整體來說菜色偏少，因為第一次去想說是和牛燒肉，應該有不少選擇\\n不過現場只有澳洲和牛，日本和牛都是要預訂才會有（連櫻桃鴨胸也是）\\n價格也偏高些我不介意，但是沒有把精緻度做出來，很可惜\\n裡面最推奶油清酒蛤蠣跟牛橫隔膜，尤其是牛橫隔膜跟我以前在日本吃的調味很像我很喜歡\\n\\n相較其他燒肉店，這個服務費收的很不值\\n服務生送餐得時候也不會說是什麼肉，也是我們自己問的\\n不主動幫忙換烤網，都要自己叫服務生來換\\n如果只是端菜跟收桌子那一般小吃店也都可以收服務費了\\n重點是去的時段人不多，看不出來有什麼忙到無法微笑的狀況\\n要收服務費就要有服務的精神，不是說要多好，但是態度可以溫暖一點會更好：）'}]}, 'status': 'OK'}\n",
      "review:{'review_text': ['8/11 7:30\\n這次的用餐體驗相當豐富，我們一開始入內時客人沒有很多，店家的防疫措施做的相當周全，菜品在點菜完成後不到十五分鐘就來了，服務人員相當細心的幫我們處理牛舌和蒜蒜牛五花以及後續的一些菜品，得到我和另一位顧客相當高的評價。\\n\\n在菜品方面我認為肉類水準很高，既鮮嫩又多汁，油脂的分佈和香味也相當優秀，尤其是厚切牛舌更是絕讚，這道菜已經變成下次光顧時的必點品了；這次的雞肉只點了雞心，但爽脆的口感讓我印象深刻；海鮮方面選擇了軟絲和一夜干鹽烤花魚，店員還很熱心的在旁邊的爐子幫我們處理烤花魚，鮮味搭配上一點檸檬也是絕配。\\n\\nP.S.這間店的桌邊服務真的很棒，店員在處理肉品方面真的相當優秀，對於技巧背後的邏輯也絲毫不藏私地分享給我們，像我這種對烤肉技巧不精熟的食客也能在這裡獲得滿足的用餐體驗。', '剛開店沒多久入店，飲料跟泡菜都上了但炭火等了20分鐘（在服務人員與現場客的對話中得知接下來定位都滿了，在這樣的狀況下我認為炭火不該等那麼久）第一輪點餐點了厚切牛舌、橫膈膜、和雞松板，橫膈膜跟雞松板的調味口感都非常好，雖然橫膈膜賣的比平均價位高一些我也覺得可以接受，但牛舌的部分一開始點餐有詢問服務人員牛舌切的厚度，他跟我說大概是一支原子筆的厚度（實測約0.8公分）這樣的厚度賣的貴了一點我也覺得可以接受，但送上桌時約只有服務人員描述的一半厚度並且左右厚薄不一，對於強調‘手切現切’的店家不該發生這樣的狀況吧（？）後續加點的牛肋條跟豬頰肉先說牛肋條，過度斷筋導致筋面烤到好入口的熟度時肉面已經過熟失去肉汁，同時加點的豬頰肉在吃完牛肋條後還沒上桌（現場不到五成滿且烤肉習慣是一次只烤一兩片肉）後續上桌表現也不甚理想，明明跟雞松板是同一種調味方式，雞肉表面是多汁舒服的、反之豬肉烤熟後表面乾柴不說還有豬味......\\n整場下來服務也是一般般，上菜時沒有介紹肉品，然後外場好像是新人有時候不是很清楚怎麼應對，快兩個小時的用餐體驗中稱的上貼心適切的服務應該只有炭火不足時主動加碳和等肉等到飲料喝完時有主動提供飲水，總觀整體用餐感受這個價位台南有許多燒肉店可供選擇並不會想特地到日藏用餐\\n另外日和的部分是要先預約才有現場沒有販售哦！不要撲空了！', '1、總共三桌，點完餐上了飲料後第一份肉過了20分鐘才上，這20分鐘兩個人坐在火前桌上空空，我們都快被烤熟。\\n\\n2、第一次點的綜合奶油菇，點餐後50幾分鐘接近一小時才上桌（中間有提醒過一次），而且還是生的，用一份生的奶油菇需要一小時嗎？不曉得。\\n\\n3、價位非常高檔，品質ok但全都份量太太太少（牛五花神級好吃，只推薦這個）兩個人已經點了快2k感覺只有三分飽⋯⋯決定結帳走人，這個速度和cp質我還是去吃SHOJO好了，開玩笑的大家不要去，休揪已經太難訂了。\\n\\n4、烤盤抽油煙的風力太小，感覺油煙吸得比較飽。\\n\\n5、後來加點的野菜是生的，結果上餐時是一般的包肉生菜，小小片4片左右（$60），肉都已經吃完才上，速度太慢之外點餐時也不先說⋯⋯\\n\\n6、肉品都太油。\\n\\n總結：cp質太低，粗估兩個人至少需要5k以上才會有飽足感，一次店。\\n\\n補：最後來的服務生看到我們沒有肉了主動幫我們把生菜退掉，多給一顆星。', '疫情期間超級想吃燒肉的\\n於是解封後立即預約日藏燒肉\\n果然好吃😋👍🏻\\n服務人員也很親切的接待\\n開放式的廚房環境非常乾淨\\n份量雖然偏少\\n但用料都很新鮮很實在\\n非常喜歡「鹽蔥牛舌」及「鮭魚卵北海道干貝」\\n手工冰淇淋的口味是焙茶及抹茶🍵\\n兩人大約吃了1700左右（含服務費）\\n\\n整體而言是台南很棒的燒肉店🥰', '整體來說菜色偏少，因為第一次去想說是和牛燒肉，應該有不少選擇\\n不過現場只有澳洲和牛，日本和牛都是要預訂才會有（連櫻桃鴨胸也是）\\n價格也偏高些我不介意，但是沒有把精緻度做出來，很可惜\\n裡面最推奶油清酒蛤蠣跟牛橫隔膜，尤其是牛橫隔膜跟我以前在日本吃的調味很像我很喜歡\\n\\n相較其他燒肉店，這個服務費收的很不值\\n服務生送餐得時候也不會說是什麼肉，也是我們自己問的\\n不主動幫忙換烤網，都要自己叫服務生來換\\n如果只是端菜跟收桌子那一般小吃店也都可以收服務費了\\n重點是去的時段人不多，看不出來有什麼忙到無法微笑的狀況\\n要收服務費就要有服務的精神，不是說要多好，但是態度可以溫暖一點會更好：）'], 'review_rating': [5, 2, 2, 5, 3]}\n",
      "{'review_text': ['8/11 7:30\\n這次的用餐體驗相當豐富，我們一開始入內時客人沒有很多，店家的防疫措施做的相當周全，菜品在點菜完成後不到十五分鐘就來了，服務人員相當細心的幫我們處理牛舌和蒜蒜牛五花以及後續的一些菜品，得到我和另一位顧客相當高的評價。\\n\\n在菜品方面我認為肉類水準很高，既鮮嫩又多汁，油脂的分佈和香味也相當優秀，尤其是厚切牛舌更是絕讚，這道菜已經變成下次光顧時的必點品了；這次的雞肉只點了雞心，但爽脆的口感讓我印象深刻；海鮮方面選擇了軟絲和一夜干鹽烤花魚，店員還很熱心的在旁邊的爐子幫我們處理烤花魚，鮮味搭配上一點檸檬也是絕配。\\n\\nP.S.這間店的桌邊服務真的很棒，店員在處理肉品方面真的相當優秀，對於技巧背後的邏輯也絲毫不藏私地分享給我們，像我這種對烤肉技巧不精熟的食客也能在這裡獲得滿足的用餐體驗。', '剛開店沒多久入店，飲料跟泡菜都上了但炭火等了20分鐘（在服務人員與現場客的對話中得知接下來定位都滿了，在這樣的狀況下我認為炭火不該等那麼久）第一輪點餐點了厚切牛舌、橫膈膜、和雞松板，橫膈膜跟雞松板的調味口感都非常好，雖然橫膈膜賣的比平均價位高一些我也覺得可以接受，但牛舌的部分一開始點餐有詢問服務人員牛舌切的厚度，他跟我說大概是一支原子筆的厚度（實測約0.8公分）這樣的厚度賣的貴了一點我也覺得可以接受，但送上桌時約只有服務人員描述的一半厚度並且左右厚薄不一，對於強調‘手切現切’的店家不該發生這樣的狀況吧（？）後續加點的牛肋條跟豬頰肉先說牛肋條，過度斷筋導致筋面烤到好入口的熟度時肉面已經過熟失去肉汁，同時加點的豬頰肉在吃完牛肋條後還沒上桌（現場不到五成滿且烤肉習慣是一次只烤一兩片肉）後續上桌表現也不甚理想，明明跟雞松板是同一種調味方式，雞肉表面是多汁舒服的、反之豬肉烤熟後表面乾柴不說還有豬味......\\n整場下來服務也是一般般，上菜時沒有介紹肉品，然後外場好像是新人有時候不是很清楚怎麼應對，快兩個小時的用餐體驗中稱的上貼心適切的服務應該只有炭火不足時主動加碳和等肉等到飲料喝完時有主動提供飲水，總觀整體用餐感受這個價位台南有許多燒肉店可供選擇並不會想特地到日藏用餐\\n另外日和的部分是要先預約才有現場沒有販售哦！不要撲空了！', '1、總共三桌，點完餐上了飲料後第一份肉過了20分鐘才上，這20分鐘兩個人坐在火前桌上空空，我們都快被烤熟。\\n\\n2、第一次點的綜合奶油菇，點餐後50幾分鐘接近一小時才上桌（中間有提醒過一次），而且還是生的，用一份生的奶油菇需要一小時嗎？不曉得。\\n\\n3、價位非常高檔，品質ok但全都份量太太太少（牛五花神級好吃，只推薦這個）兩個人已經點了快2k感覺只有三分飽⋯⋯決定結帳走人，這個速度和cp質我還是去吃SHOJO好了，開玩笑的大家不要去，休揪已經太難訂了。\\n\\n4、烤盤抽油煙的風力太小，感覺油煙吸得比較飽。\\n\\n5、後來加點的野菜是生的，結果上餐時是一般的包肉生菜，小小片4片左右（$60），肉都已經吃完才上，速度太慢之外點餐時也不先說⋯⋯\\n\\n6、肉品都太油。\\n\\n總結：cp質太低，粗估兩個人至少需要5k以上才會有飽足感，一次店。\\n\\n補：最後來的服務生看到我們沒有肉了主動幫我們把生菜退掉，多給一顆星。', '疫情期間超級想吃燒肉的\\n於是解封後立即預約日藏燒肉\\n果然好吃😋👍🏻\\n服務人員也很親切的接待\\n開放式的廚房環境非常乾淨\\n份量雖然偏少\\n但用料都很新鮮很實在\\n非常喜歡「鹽蔥牛舌」及「鮭魚卵北海道干貝」\\n手工冰淇淋的口味是焙茶及抹茶🍵\\n兩人大約吃了1700左右（含服務費）\\n\\n整體而言是台南很棒的燒肉店🥰', '整體來說菜色偏少，因為第一次去想說是和牛燒肉，應該有不少選擇\\n不過現場只有澳洲和牛，日本和牛都是要預訂才會有（連櫻桃鴨胸也是）\\n價格也偏高些我不介意，但是沒有把精緻度做出來，很可惜\\n裡面最推奶油清酒蛤蠣跟牛橫隔膜，尤其是牛橫隔膜跟我以前在日本吃的調味很像我很喜歡\\n\\n相較其他燒肉店，這個服務費收的很不值\\n服務生送餐得時候也不會說是什麼肉，也是我們自己問的\\n不主動幫忙換烤網，都要自己叫服務生來換\\n如果只是端菜跟收桌子那一般小吃店也都可以收服務費了\\n重點是去的時段人不多，看不出來有什麼忙到無法微笑的狀況\\n要收服務費就要有服務的精神，不是說要多好，但是態度可以溫暖一點會更好：）'], 'review_rating': [5, 2, 2, 5, 3]}\n"
     ]
    }
   ],
   "source": [
    "test = get_place_rev(API_keys, \"ChIJJZT_vnN3bjQR3ynoi2XoMqc\")\n",
    "print(test)"
   ]
  },
  {
   "cell_type": "markdown",
   "metadata": {},
   "source": [
    "# Combine Review into PlaceFinding "
   ]
  },
  {
   "cell_type": "code",
   "execution_count": null,
   "metadata": {},
   "outputs": [],
   "source": [
    "def Info_2_Dic(place_info):\n",
    "    num_place = len(place_info[\"results\"])\n",
    "    print(num_place)\n",
    "    information = {}\n",
    "    \n",
    "    dic_data = lambda x : [place_info[\"results\"][i][x] for i in range(0, num_place)]\n",
    "    \n",
    "    information[\"name\"] = []\n",
    "    information[\"place_id\"] = []\n",
    "    information[\"types\"] = []\n",
    "    information[\"lat\"] = []\n",
    "    information[\"lng\"] = []\n",
    "    information[\"rating\"] = []\n",
    "    information[\"user_ratings_total\"] = []\n",
    "    \n",
    "    information[\"reviews\"] = []\n",
    "    \n",
    "    for i in range(0, num_place):\n",
    "        information[\"name\"].append(place_info[\"results\"][i][\"name\"])\n",
    "        information[\"place_id\"].append(place_info[\"results\"][i][\"place_id\"])\n",
    "        information[\"types\"].append(place_info[\"results\"][i][\"types\"])\n",
    "        information[\"lat\"].append(place_info[\"results\"][i]['geometry']['location'][\"lat\"])\n",
    "        information[\"lng\"].append(place_info[\"results\"][i]['geometry']['location'][\"lng\"])\n",
    "        \n",
    "        try:\n",
    "            information[\"rating\"].append(place_info[\"results\"][i][\"rating\"])\n",
    "            information[\"user_ratings_total\"].append(place_info[\"results\"][i][\"user_ratings_total\"])\n",
    "            information[\"reviews\"].append()\n",
    "        except:\n",
    "#             print(\"rating error\")\n",
    "#             print(place_info[\"results\"][i][\"name\"])\n",
    "            information[\"rating\"].append(0)\n",
    "            information[\"user_ratings_total\"].append(0)\n",
    "            continue\n",
    "    \n",
    "    #print(information)\n",
    "    return pd.DataFrame(information)"
   ]
  },
  {
   "cell_type": "code",
   "execution_count": null,
   "metadata": {},
   "outputs": [],
   "source": [
    "def get_place_info(API_keys, lat, lon, radius, type_place):\n",
    "    \n",
    "    \n",
    "    url = \"https://maps.googleapis.com/maps/api/place/nearbysearch/json?\"\n",
    "    \n",
    "    params = { \n",
    "        \"location\": str(lat) + \",\" + str(lon),\n",
    "        \"radius\" : str(radius),\n",
    "        \"type\" : type_place,\n",
    "        \"fields\" :  \"name,rating,formatted_phone_number,geometry\",\n",
    "        \"place_id\" : \"ChIJB7ZNzXI2aDQREwR22ltdKxE\",\n",
    "        \"key\" : API_keys,\n",
    "        \"language\" : \"zh-TW\",\n",
    "             }\n",
    "    \n",
    "    payload={}\n",
    "    headers = {}\n",
    "    response = requests.request(\"GET\", url, params = params, headers=headers, data=payload)\n",
    "    #print(response.url)\n",
    "    return Info_2_Dic(json.loads(response.text))"
   ]
  }
 ],
 "metadata": {
  "kernelspec": {
   "display_name": "Python 3",
   "language": "python",
   "name": "python3"
  },
  "language_info": {
   "codemirror_mode": {
    "name": "ipython",
    "version": 3
   },
   "file_extension": ".py",
   "mimetype": "text/x-python",
   "name": "python",
   "nbconvert_exporter": "python",
   "pygments_lexer": "ipython3",
   "version": "3.7.0"
  }
 },
 "nbformat": 4,
 "nbformat_minor": 2
}
